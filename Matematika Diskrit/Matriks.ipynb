{
 "cells": [
  {
   "cell_type": "code",
   "execution_count": null,
   "metadata": {},
   "outputs": [],
   "source": [
    "#Membuat elemen matriks\n",
    "matrix =[                 \n",
    "    [0, 1, 1, 1],\n",
    "    [1, 1, 1, 1],\n",
    "    [1, 0, 1, 1],\n",
    "    [0, 1, 1, 0],\n",
    "]\n",
    "#Mengakses matriks\n",
    "for x in range(0, len(matrix)):\n",
    "    for y in range(0, len(matrix[0])):\n",
    "        print (matrix[x][y], end=' '),       \n",
    "    print()    \n",
    "print(\"_________________________\")\n",
    "h=matrix[0][0]+matrix[0][1]+matrix[0][2]+matrix[0][3]  #Membuat variabel h penampung penjumlahan baris 1\n",
    "i=matrix[1][0]+matrix[1][1]+matrix[1][2]+matrix[1][3]  #Membuat variabel i penampung penjumlahan baris 2\n",
    "j=matrix[2][0]+matrix[2][1]+matrix[2][2]+matrix[2][3]  #Membuat variabel j penampung penjumlahan baris 3\n",
    "k=matrix[3][0]+matrix[3][1]+matrix[3][2]+matrix[3][3]  #Membuat variabel k penampung penjumlahan baris 4\n",
    "print(\"Derajat simpul ke 1 =\",matrix[0][0],\"+\",matrix[0][1],\"+\",matrix[0][2],\"+\",matrix[0][3],\"=\",h)\n",
    "print(\"Derajat simpul ke 2 =\",matrix[1][0],\"+\",matrix[1][1],\"+\",matrix[1][2],\"+\",matrix[1][3],\"=\",i)\n",
    "print(\"Derajat simpul ke 3 =\",matrix[2][0],\"+\",matrix[2][1],\"+\",matrix[2][2],\"+\",matrix[2][3],\"=\",j)\n",
    "print(\"Derajat simpul ke 4 =\",matrix[3][0],\"+\",matrix[3][1],\"+\",matrix[3][2],\"+\",matrix[3][3],\"=\",k)\n",
    "[08.56, 25/5/2022] Jonathan Poltek (Yostar465): #Membuat elemen matriks\n",
    "matrix =[                 \n",
    "    [0, 0, 0, 1],\n",
    "    [1, 0, 1, 1],\n",
    "    [0, 0, 0, 1],\n",
    "    [1, 0, 1, 0],\n",
    "]\n",
    "#Mengakses matriks\n",
    "for x in range(0, len(matrix)):\n",
    "    for y in range(0, len(matrix[0])):\n",
    "        print (matrix[x][y], end=' '),       \n",
    "    print() \n",
    "print(\"_________________________\")\n",
    "l=matrix[0][1]+matrix[1][1]+matrix[2][1]+matrix[3][1]  #Membuat variabel l penampung penjumlahan kolom 2\n",
    "m=matrix[1][0]+matrix[1][1]+matrix[1][2]+matrix[1][3]  #Membuat variabel m penampung penjumlahan baris 2\n",
    "print(\"Derajat masuk simpul 4 = \",matrix[0][1],\"+\",matrix[1][1],\"+\",matrix[2][1],\"+\",matrix[3][1],\"=\",l )\n",
    "print(\"Derajat keluar simpul 4 = \",matrix[1][0],\"+\",matrix[1][1],\"+\",matrix[1][2],\"+\",matrix[1][3],\"=\",m )"
   ]
  }
 ],
 "metadata": {
  "kernelspec": {
   "display_name": "Python 3.8.10 64-bit",
   "language": "python",
   "name": "python3"
  },
  "language_info": {
   "name": "python",
   "version": "3.8.10"
  },
  "orig_nbformat": 4,
  "vscode": {
   "interpreter": {
    "hash": "916dbcbb3f70747c44a77c7bcd40155683ae19c65e1c03b4aa3499c5328201f1"
   }
  }
 },
 "nbformat": 4,
 "nbformat_minor": 2
}
