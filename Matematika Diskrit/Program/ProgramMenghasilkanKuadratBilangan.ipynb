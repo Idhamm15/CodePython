{
 "cells": [
  {
   "cell_type": "code",
   "execution_count": null,
   "metadata": {},
   "outputs": [],
   "source": [
    "# Program untuk menghasilkan kuadrat bilangan \n",
    "my_list = [1, 2, 3, 4, 5, 6, 7, 8, 9, 10] \n",
    "kuadrat = list(map(lambda x: x*x, my_list)) \n",
    "\n",
    "# Output: [1, 4, 9, 16, 25, 36, 49, 64, 81, 100 ] \n",
    "print(kuadrat)\n",
    "\n",
    "n = int(input( \"Input Number :\"))\n",
    "def rek(angka):\n",
    "    if angka > 0:\n",
    "        print(angka)\n",
    "        angka = angka - 1\n",
    "        rek(angka)\n",
    "    else:\n",
    "        print(angka)\n",
    "rek(n)"
   ]
  }
 ],
 "metadata": {
  "kernelspec": {
   "display_name": "Python 3.8.10 64-bit",
   "language": "python",
   "name": "python3"
  },
  "language_info": {
   "name": "python",
   "version": "3.8.10"
  },
  "orig_nbformat": 4,
  "vscode": {
   "interpreter": {
    "hash": "916dbcbb3f70747c44a77c7bcd40155683ae19c65e1c03b4aa3499c5328201f1"
   }
  }
 },
 "nbformat": 4,
 "nbformat_minor": 2
}
