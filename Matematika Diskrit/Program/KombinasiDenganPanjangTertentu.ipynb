{
 "cells": [
  {
   "cell_type": "code",
   "execution_count": null,
   "metadata": {},
   "outputs": [],
   "source": [
    "# Program Python untuk mencetak semua \n",
    "# kombinasi dengan panjang tertentu\n",
    "from itertools import combinations \n",
    "\n",
    "# Mendapatkan semua kombinasi dari [1, 2, 3]\n",
    "# dengan panjang 2\n",
    "comb = combinations([1, 2, 3], 2) \n",
    "\n",
    "# Print semua kombinasi\n",
    "for i in comb: \n",
    "    print(i)"
   ]
  }
 ],
 "metadata": {
  "language_info": {
   "name": "python"
  },
  "orig_nbformat": 4
 },
 "nbformat": 4,
 "nbformat_minor": 2
}
