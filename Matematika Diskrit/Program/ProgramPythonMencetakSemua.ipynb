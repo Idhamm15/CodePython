{
 "cells": [
  {
   "cell_type": "code",
   "execution_count": null,
   "metadata": {},
   "outputs": [],
   "source": [
    "# Program Python untuk mencetak semua \n",
    "# permutasi menggunakan fungsi dari library python \n",
    "from itertools import permutations \n",
    "\n",
    "# Mendapatkan semua permutasi dari [1, 2, 3] \n",
    "perm = permutations([1, 2, 3]) \n",
    "\n",
    "# Print semua permutasi \n",
    "for i in perm: \n",
    "    print(i)\n",
    "\n",
    "# Program Python untuk mencetak semua \n",
    "# permutasi dengan panjang ditentukan\n",
    "from itertools import permutations \n",
    "\n",
    "# Mendapatkan semua permutasi dari [1, 2, 3] \n",
    "perm = permutations([1, 2, 3],2) \n",
    "\n",
    "# Print semua permutasi \n",
    "for i in perm: \n",
    "    print(i)\n",
    "\n",
    "\n",
    "################################################\n",
    "def all_perms(elements):\n",
    "    if len(elements) <=1:\n",
    "        yield elements\n",
    "    else:\n",
    "        for perm in all_perms(elements[1:]):\n",
    "            for i in range(len(elements)):\n",
    "                # nb elements[0:1] works in both string and list contexts\n",
    "                yield perm[:i] + elements[0:1] + perm[i:]print('Materi Permutasi')\n",
    "n = int(raw_input('Masukkan bilangan bulat:'))\n",
    "r = int(raw_input('Masukkan bilangan bulat:'))\n",
    "def faktorial(x):\n",
    "        if x == 1:\n",
    "            return 1\n",
    "        elif x == 0:\n",
    "            return 1\n",
    "        else:\n",
    "            return (x*faktorial(x-1))\n",
    "hasil = (faktorial(n)/faktorial(n-r))\n",
    "print('Hasil permutasinya adalah:', hasil)"
   ]
  }
 ],
 "metadata": {
  "kernelspec": {
   "display_name": "Python 3.8.10 64-bit",
   "language": "python",
   "name": "python3"
  },
  "language_info": {
   "name": "python",
   "version": "3.8.10"
  },
  "orig_nbformat": 4,
  "vscode": {
   "interpreter": {
    "hash": "916dbcbb3f70747c44a77c7bcd40155683ae19c65e1c03b4aa3499c5328201f1"
   }
  }
 },
 "nbformat": 4,
 "nbformat_minor": 2
}
