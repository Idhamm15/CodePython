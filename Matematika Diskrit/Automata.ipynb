{
 "cells": [
  {
   "cell_type": "code",
   "execution_count": null,
   "metadata": {},
   "outputs": [],
   "source": [
    "#automata\n",
    "d=(\"aaa\")\n",
    "if d !=\"aaa\":\n",
    "    print ('rejected')\n",
    "else:\n",
    "    print('accepted')\n",
    "\n",
    "#membuat analisis pada automata\n",
    "Data1 = int(input(\" Inputkan data = \"))\n",
    "Data2 = int(input(\" Inputkan data = \"))\n",
    "Data3 = int(input(\" Inputkan data = \"))\n",
    "Data4 = int(input(\" Inputkan data = \"))\n",
    "if Data1 + Data2 + Data3 + Data4 ==4 :\n",
    "    print(\"Rejected\")\n",
    "elif Data1+Data2+Data3 == 3:\n",
    "    print(\"Accepted\")\n",
    "elif Data2+Data3+Data4 == 3:\n",
    "    print(\"Accepted\")\n",
    "elif Data1 +Data2+Data3 == 0:\n",
    "    print(\"Accepted\")\n",
    "elif Data2 + Data3 == 2:\n",
    "    print(\"Rejected\")\n",
    "elif Data2 == 1 :\n",
    "    print(\"Accepted\")\n",
    "elif Data1 +Data2 == 2:\n",
    "    print(\"Rejected\")\n",
    "elif Data3 +Data4 == 1 :\n",
    "    print(\"Rejected\")\n",
    "else:\n",
    "    print(\"Accepted\")"
   ]
  }
 ],
 "metadata": {
  "language_info": {
   "name": "python"
  },
  "orig_nbformat": 4
 },
 "nbformat": 4,
 "nbformat_minor": 2
}
