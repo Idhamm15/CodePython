{
 "cells": [
  {
   "cell_type": "code",
   "execution_count": null,
   "metadata": {},
   "outputs": [],
   "source": [
    "#contoh penerapan induksi matematika \n",
    "b = 15\n",
    "T = 0\n",
    "p = input(\"Masukkan jumlah pinjaman: \")\n",
    "t = input(\"Masukkan lama pinjaman: \")\n",
    "\n",
    "U= int(p)\n",
    "\n",
    "for i in range(1, int(t)):\n",
    "    T = U + (15 / 100 * T)\n",
    "\n",
    "print(\"Total pinjaman yang harus dibayarkan adalah: \" + str(T))"
   ]
  }
 ],
 "metadata": {
  "kernelspec": {
   "display_name": "Python 3.8.10 64-bit",
   "language": "python",
   "name": "python3"
  },
  "language_info": {
   "name": "python",
   "version": "3.8.10"
  },
  "orig_nbformat": 4,
  "vscode": {
   "interpreter": {
    "hash": "916dbcbb3f70747c44a77c7bcd40155683ae19c65e1c03b4aa3499c5328201f1"
   }
  }
 },
 "nbformat": 4,
 "nbformat_minor": 2
}
