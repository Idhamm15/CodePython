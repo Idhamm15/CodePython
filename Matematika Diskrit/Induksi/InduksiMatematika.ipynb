{
 "cells": [
  {
   "cell_type": "code",
   "execution_count": null,
   "metadata": {},
   "outputs": [],
   "source": [
    "#induksi matematika pembuktikan dari bilangan n\n",
    "n= 10\n",
    "\n",
    "total_1= 0\n",
    "for i in range(n+1):\n",
    "    total_1 += i\n",
    "        \n",
    "total_2=0\n",
    "for i in range(n+1):\n",
    "    total_2 += pow(i,3)\n",
    "    \n",
    "print(total_1,\"=\", int((1/2)n(n+1)))\n",
    "print(total_2,\"=\", int((1/4)*pow(n,2)*pow(n+1,2)))\n",
    "print(\"Habis dibagi 5\", (pow(3,2*n)+pow(2,2*n+2))%5==0)\n",
    "\n",
    "\n",
    "#INDUKSI MATEMIKA UNTUK 180(n-2)\n",
    "n=180\n",
    "\n",
    "total_1= 0\n",
    "for i in range(n+1):\n",
    "    total_1 += i \n",
    "    \n",
    "total_2=0\n",
    "for i in range(n+1):\n",
    "    total_2 += pow(i,3)\n",
    "    \n",
    "print(total_1,\"=\", int((1/2)n(n+1)))\n",
    "print(total_2,\"=\", int((1/4)*pow(n,2)*pow(n+1,2)))"
   ]
  }
 ],
 "metadata": {
  "language_info": {
   "name": "python"
  },
  "orig_nbformat": 4
 },
 "nbformat": 4,
 "nbformat_minor": 2
}
