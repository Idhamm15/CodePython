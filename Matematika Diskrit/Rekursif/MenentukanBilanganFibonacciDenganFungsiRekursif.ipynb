{
 "cells": [
  {
   "cell_type": "code",
   "execution_count": null,
   "metadata": {},
   "outputs": [],
   "source": [
    "#Menentukan Bilangan Fibonacci dengan Fungsi Rekursif\n",
    "def fibonacci(n):\n",
    "   if n == 0 or n == 1:\n",
    "      return n\n",
    "   else:\n",
    "      return (fibonacci(n-1) + fibonacci(n-2))\n",
    "\n",
    "x = int(input(\"Masukan Batas Deret Bilangan Fibonacci : \"))\n",
    "print(\"Deret Fibonacci\")\n",
    "for i in range(x):\n",
    "   print(fibonacci(i),end=' ')"
   ]
  }
 ],
 "metadata": {
  "language_info": {
   "name": "python"
  },
  "orig_nbformat": 4
 },
 "nbformat": 4,
 "nbformat_minor": 2
}
