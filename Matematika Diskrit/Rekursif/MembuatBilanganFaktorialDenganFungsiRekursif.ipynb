{
 "cells": [
  {
   "cell_type": "code",
   "execution_count": null,
   "metadata": {},
   "outputs": [],
   "source": [
    "#Menghitung Bilangan Faktorial Dengan Fungsi Rekursif \n",
    "def faktorial(a):\n",
    "   if a == 1:\n",
    "      return (a)\n",
    "   else:\n",
    "      return (a*faktorial(a-1))\n",
    "\n",
    "bil = int(input(\"Masukan Bilangan : \"))\n",
    "\n",
    "print(\"%d! = %d\" % (bil, faktorial(bil)))"
   ]
  }
 ],
 "metadata": {
  "kernelspec": {
   "display_name": "Python 3.8.10 64-bit",
   "language": "python",
   "name": "python3"
  },
  "language_info": {
   "name": "python",
   "version": "3.8.10"
  },
  "orig_nbformat": 4,
  "vscode": {
   "interpreter": {
    "hash": "916dbcbb3f70747c44a77c7bcd40155683ae19c65e1c03b4aa3499c5328201f1"
   }
  }
 },
 "nbformat": 4,
 "nbformat_minor": 2
}
