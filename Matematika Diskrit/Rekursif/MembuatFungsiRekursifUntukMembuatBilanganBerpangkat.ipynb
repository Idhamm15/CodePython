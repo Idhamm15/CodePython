{
 "cells": [
  {
   "cell_type": "code",
   "execution_count": null,
   "metadata": {},
   "outputs": [],
   "source": [
    "#membuat Fungsi Rekursif untuk Menghitung Bilangan Berpangkat\n",
    "def pangkat(x,y):\n",
    "   if y == 0:\n",
    "      return 1\n",
    "   else:\n",
    "      return x * pangkat(x,y-1)\n",
    "\n",
    "x = int(input(\"Masukan Nilai X : \"))\n",
    "y = int(input(\"Masukan Nilai Y : \"))\n",
    "\n",
    "print(\"%d dipangkatkan %d = %d\" % (x,y,pangkat(x,y)))"
   ]
  }
 ],
 "metadata": {
  "kernelspec": {
   "display_name": "Python 3.8.10 64-bit",
   "language": "python",
   "name": "python3"
  },
  "language_info": {
   "name": "python",
   "version": "3.8.10"
  },
  "orig_nbformat": 4,
  "vscode": {
   "interpreter": {
    "hash": "916dbcbb3f70747c44a77c7bcd40155683ae19c65e1c03b4aa3499c5328201f1"
   }
  }
 },
 "nbformat": 4,
 "nbformat_minor": 2
}
