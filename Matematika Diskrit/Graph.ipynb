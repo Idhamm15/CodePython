{
 "cells": [
  {
   "cell_type": "code",
   "execution_count": null,
   "metadata": {},
   "outputs": [],
   "source": [
    "#membuat graph\n",
    "#awal = {A,B,C,D,E,F}\n",
    "#akhir = {AB,AC,BC,BD,CD,DC,EF,FC}\n",
    "graf = {'A': ['B', 'C'],'B': ['C', 'D'],'C': ['D'],'D': ['C'],'E': ['F'],'F': ['C']}\n",
    "print(graf)\n",
    "\n",
    "#membuat graph dengan dictonary\n",
    "#V= {a,b,c,d,e}\n",
    "#E= {ab,ac,bd,cd,de}\n",
    "graph= {\"a\":[\"b\",\"c\"],\"b\":[\"a\",\"d\"],\"c\":[\"a\",\"d\"],\"d\":[\"e\"],\"e\":[\"d\"]}\n",
    "#cetak graph\n",
    "print (graph)\n",
    "\n",
    "\n",
    "\n",
    "#Fungsi ini akan menemukan sebuah jalur (path) dari titik awal hingga titik akhir atau tujuan\n",
    "awal = {'A','B','C','D','E','F'}\n",
    "akhir = {'AB','AC','BC','BD','CD','DC','EF','FC'}\n",
    "graf = {'A': ['B', 'C'], 'B': ['C', 'D'], 'C': ['D'], 'D': ['C'], 'E': ['F'], 'F': ['C']}\n",
    "jalur ={'AB','AC','BC','BD','CD','DC','EF','FC'}\n",
    "titik = {'A','B','C','D','E','F'}\n",
    "def temukan_jalur(graf, awal, akhir, jalur=[]):\n",
    "    jalur = jalur + [awal]\n",
    "    if awal == akhir:\n",
    "        return jalur\n",
    "    if not graf.has_key(awal):\n",
    "        return None\n",
    "    for titik in graf[awal]:\n",
    "        if titik not in jalur:\n",
    "            jalur_baru = temukan_jalur(graf, titik, akhir, jalur)\n",
    "            if jalur_baru: return jalur_baru\n",
    "    return None\n",
    "print(graf)\n",
    "print (jalur_baru)\n",
    "\n"
   ]
  }
 ],
 "metadata": {
  "language_info": {
   "name": "python"
  },
  "orig_nbformat": 4
 },
 "nbformat": 4,
 "nbformat_minor": 2
}
