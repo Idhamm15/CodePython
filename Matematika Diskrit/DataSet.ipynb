{
 "cells": [
  {
   "cell_type": "code",
   "execution_count": null,
   "metadata": {},
   "outputs": [],
   "source": [
    "Buah=(\"Apel\",\"Pisang\",\"Avocado\",\"Kelapa\",\"Anggur\",\"Semangka\",\"Lemon\",\"Nangka\",\"Durian\",\"Jeruk\")\n",
    "Buah2=[\"Apel\",\"Pisang\",\"Avocado\",\"Kelapa\",\"Anggur\",\"Semangka\",\"Lemon\",\"Nangka\",\"Durian\",\"Jeruk\"]\n",
    "Buah3={\"Apel\",\"Pisang\",\"Avocado\",\"Kelapa\",\"Anggur\",\"Semangka\",\"Lemon\",\"Nangka\",\"Durian\",\"Jeruk\"}\n",
    "print(type(Buah))\n",
    "print(type(Buah2))\n",
    "print(type(Buah3))\n",
    "print(Buah[1])\n",
    "print(Buah[2])\n",
    "print(Buah[1:4])\n",
    "print(\"Buah:%d\"%len(Buah))"
   ]
  }
 ],
 "metadata": {
  "language_info": {
   "name": "python"
  },
  "orig_nbformat": 4
 },
 "nbformat": 4,
 "nbformat_minor": 2
}
