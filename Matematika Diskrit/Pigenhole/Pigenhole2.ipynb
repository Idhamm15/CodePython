{
 "cells": [
  {
   "cell_type": "code",
   "execution_count": null,
   "metadata": {},
   "outputs": [],
   "source": [
    "def pigeonhole_sort(a):\n",
    "    # size of range of values in the list \n",
    "    # (ie, number of pigeonholes we need)\n",
    "    my_min = min(a)\n",
    "    my_max = max(a)\n",
    "    size = my_max - my_min + 1\n",
    "  \n",
    "    # our list of pigeonholes\n",
    "    holes = [0] * size\n",
    "  \n",
    "    # Populate the pigeonholes.\n",
    "    for x in a:\n",
    "        assert type(x) is int, \"integers only please\"\n",
    "        holes[x - my_min] += 1\n",
    "  \n",
    "    # Put the elements back into the array in order.\n",
    "    i = 0\n",
    "    for count in range(size):\n",
    "        while holes[count] > 0:\n",
    "            holes[count] -= 1\n",
    "            a[i] = count + my_min\n",
    "            i += 1\n",
    "            a = [8, 3, 2, 7, 4, 6, 8]\n",
    "print(\"Sorted order is : \", end =\" \")\n",
    "  \n",
    "pigeonhole_sort(a)\n",
    "          \n",
    "for i in range(0, len(a)):\n",
    "    print(a[i], end =\" \")\n",
    "    a = [8, 3, 2, 7, 4, 6, 8]\n",
    "print(\"Sorted order is : \", end =\" \")\n",
    "  \n",
    "pigeonhole_sort(a)\n",
    "          \n",
    "for i in range(0, len(a)):\n",
    "    print(a[i], end =\" \")"
   ]
  }
 ],
 "metadata": {
  "language_info": {
   "name": "python"
  },
  "orig_nbformat": 4
 },
 "nbformat": 4,
 "nbformat_minor": 2
}
