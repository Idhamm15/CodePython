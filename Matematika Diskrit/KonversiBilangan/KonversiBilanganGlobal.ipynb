{
 "cells": [
  {
   "cell_type": "code",
   "execution_count": null,
   "metadata": {},
   "outputs": [],
   "source": [
    "#konversi bilangan\n",
    "def genConverter(angka, pembilang):\n",
    "    result = []\n",
    "    hasilAngka = \"\"\n",
    "    loop = True\n",
    "    while loop:\n",
    "        if angka >= pembilang:\n",
    "            result.append(angka)\n",
    "            sisa = angka % pembilang\n",
    "            angka = angka // pembilang\n",
    "            if sisa > 9:\n",
    "                huruf = libChar(sisa)\n",
    "                hasilAngka += huruf\n",
    "                sisa = \"{0} = {1}\".format(sisa, huruf)\n",
    "            else:\n",
    "                hasilAngka += str(sisa)\n",
    "            divid = \"{0}------  {1}\".format(pembilang, sisa)\n",
    "            result.append(divid)\n",
    "        else:\n",
    "            if angka > 9:\n",
    "                angka = libChar(angka)\n",
    "            hasilAngka += str(angka)\n",
    "            result.append(angka)\n",
    "            loop = False\n",
    "            break\n",
    "        result.append(\"\")\n",
    "\n",
    "    hasilAngka = \"\".join(reversed(hasilAngka)) #reversed\n",
    "\n",
    "    return (result, hasilAngka)"
   ]
  }
 ],
 "metadata": {
  "language_info": {
   "name": "python"
  },
  "orig_nbformat": 4
 },
 "nbformat": 4,
 "nbformat_minor": 2
}
