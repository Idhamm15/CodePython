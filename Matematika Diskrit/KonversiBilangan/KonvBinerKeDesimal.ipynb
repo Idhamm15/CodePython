{
 "cells": [
  {
   "cell_type": "code",
   "execution_count": null,
   "metadata": {},
   "outputs": [],
   "source": [
    "#Konversi Biner Ke Desimal\n",
    "def binerKeDesimal(biner):\n",
    "    pangkat = len(biner) - 1\n",
    "    desimal = 0\n",
    "    for i in range(len(biner)):\n",
    "        iBin = int(biner[i])\n",
    "        iDes = iBin * (2**pangkat)\n",
    "        desimal += iDes\n",
    "        pangkat -= 1\n",
    "    return desimal\n",
    "def desimalKeBiner(desimal):\n",
    "    biner = \"\"\n",
    "    while(desimal != 0):\n",
    "        biner = str(desimal % 2) + biner\n",
    "        desimal //= 2\n",
    "    return biner\n",
    "biner1 = input()\n",
    "biner2 = input()\n",
    "biner3 = input()\n",
    "desimal123 = binerKeDesimal(biner1) + binerKeDesimal(biner2) + binerKeDesimal(biner3)\n",
    "hasil = desimalKeBiner(desimal123)\n",
    "print(desimal123)\n",
    "print(hasil)"
   ]
  }
 ],
 "metadata": {
  "language_info": {
   "name": "python"
  },
  "orig_nbformat": 4
 },
 "nbformat": 4,
 "nbformat_minor": 2
}
