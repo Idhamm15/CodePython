{
 "cells": [
  {
   "cell_type": "code",
   "execution_count": null,
   "metadata": {},
   "outputs": [],
   "source": [
    "desimal = int(input('Masukkan Bilangan Desimal = '))\n",
    "\n",
    "biner = bin(desimal) .replace(\"0b\",\"\")\n",
    "oktal = oct(desimal) .replace(\"0o\",\"\")\n",
    "hexa = hex(desimal) .replace(\"0x\",\"\")\n",
    "print(biner,oktal,hexa)"
   ]
  }
 ],
 "metadata": {
  "language_info": {
   "name": "python"
  },
  "orig_nbformat": 4
 },
 "nbformat": 4,
 "nbformat_minor": 2
}
