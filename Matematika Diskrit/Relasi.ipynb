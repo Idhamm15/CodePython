{
 "cells": [
  {
   "cell_type": "code",
   "execution_count": null,
   "metadata": {},
   "outputs": [],
   "source": [
    "# membuat relasi R = {(a, a), (a, b), (b, a), (b, c), (b, d), (c, a), (c, d), (d, b)} adalah relasi pada himpunan {a, b, c, d}. Maka representasikan relasi tersebut kedalam Graph\n",
    "graf = {'a': ['a', 'b'],'b': ['a', 'c','d'],'c': ['a','d'],'d': ['b']}\n",
    "print (graf)\n",
    "\n",
    "#merepresntasikan relasi kedalam matrik \n",
    "matriks = [ [1,0,1,0],[0,1,0,1],[1,0,1,0],[0,1,0,1] ]\n",
    "graf = [ '[1,0,1,0]','[0,1,0,1]','[1,0,1,0]','[0,1,0,1]' ]\n",
    "print(graf)\n",
    "\n",
    "#memrepresentasikan matrik ketetanggan dalam relasi dan graph\n",
    "matriks= [ [0,1,1,0],[1,0,1,1],[1,1,0,1],[0,1,1,0] ]\n",
    "graf_tetangga=['[0,1,1,0]','[1,0,1,1]','[1,1,0,1]','[0,1,1,0]']\n",
    "print(graf_tetangga)\n",
    "\n",
    "#matriks ketetanggan untuk grap berarah\n",
    "matriks = [[0,1,0,0],[1,0,1,1],[1,0,0,0],[0,1,1,0]]\n",
    "matriks_grafberarahtetangga=['[0,1,0,0]','[1,0,1,1]','[1,0,0,0]','[0,1,1,0]']\n",
    "print(matriks_grafberarahtetangga)\n",
    "\n",
    "m = int (input(\"Masukkan jumlah baris: \"))\n",
    "n = int (input(\"Masukkan jumlah kolom: \"))\n",
    "x = [0]*m\n",
    "for i in range(m):\n",
    "    x [i] = [1]*n\n",
    "    print (x)\n",
    "\n",
    "from numpy import * \n",
    "matriks = range(12) \n",
    "matriks = reshape(matriks,(4,3)) \n",
    "print (matriks)"
   ]
  }
 ],
 "metadata": {
  "kernelspec": {
   "display_name": "Python 3.8.10 64-bit",
   "language": "python",
   "name": "python3"
  },
  "language_info": {
   "name": "python",
   "version": "3.8.10"
  },
  "orig_nbformat": 4,
  "vscode": {
   "interpreter": {
    "hash": "916dbcbb3f70747c44a77c7bcd40155683ae19c65e1c03b4aa3499c5328201f1"
   }
  }
 },
 "nbformat": 4,
 "nbformat_minor": 2
}
