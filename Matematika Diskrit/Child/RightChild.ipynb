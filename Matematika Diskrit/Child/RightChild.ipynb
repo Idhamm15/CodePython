{
 "cells": [
  {
   "cell_type": "code",
   "execution_count": null,
   "metadata": {},
   "outputs": [],
   "source": [
    "#Kode Python untuk menambahkan anak kanan baru (right child)\n",
    "\n",
    "def insertRight(root, newBranch):\n",
    " \t   t = root.pop(2)\n",
    "\t   if len (t) > 1:\n",
    "                            root.insert(2, [newBranch, [], t])\n",
    "\t   else:\n",
    "\t\t     root.insert(2, [newBranch, [], [] ])\n",
    " \n",
    "\t    return root"
   ]
  }
 ],
 "metadata": {
  "kernelspec": {
   "display_name": "Python 3.8.10 64-bit",
   "language": "python",
   "name": "python3"
  },
  "language_info": {
   "name": "python",
   "version": "3.8.10"
  },
  "orig_nbformat": 4,
  "vscode": {
   "interpreter": {
    "hash": "916dbcbb3f70747c44a77c7bcd40155683ae19c65e1c03b4aa3499c5328201f1"
   }
  }
 },
 "nbformat": 4,
 "nbformat_minor": 2
}
